{
 "cells": [
  {
   "cell_type": "code",
   "execution_count": 1,
   "id": "65cac2a4",
   "metadata": {},
   "outputs": [
    {
     "name": "stdout",
     "output_type": "stream",
     "text": [
      "Requirement already satisfied: pymdptoolbox in /home/lakshmi/anaconda3/lib/python3.9/site-packages (4.0b3)\n",
      "Requirement already satisfied: numpy in /home/lakshmi/anaconda3/lib/python3.9/site-packages (from pymdptoolbox) (1.22.4)\n",
      "Requirement already satisfied: scipy in /home/lakshmi/anaconda3/lib/python3.9/site-packages (from pymdptoolbox) (1.7.1)\n",
      "\u001b[33mDEPRECATION: pyodbc 4.0.0-unsupported has a non-standard version number. pip 24.1 will enforce this behaviour change. A possible replacement is to upgrade to a newer version of pyodbc or contact the author to suggest that they release a version with a conforming version number. Discussion can be found at https://github.com/pypa/pip/issues/12063\u001b[0m\u001b[33m\n",
      "\u001b[0m"
     ]
    }
   ],
   "source": [
    "# !pip install pymdptoolbox"
   ]
  },
  {
   "cell_type": "code",
   "execution_count": null,
   "id": "00ffcf3b",
   "metadata": {},
   "outputs": [],
   "source": [
    "# import mdptoolbox"
   ]
  },
  {
   "cell_type": "code",
   "execution_count": 1,
   "id": "3cd917e7",
   "metadata": {},
   "outputs": [],
   "source": [
    "import numpy as np\n",
    "import mdptoolbox, mdptoolbox.example\n",
    "import random"
   ]
  },
  {
   "cell_type": "code",
   "execution_count": null,
   "id": "be5ebca1",
   "metadata": {},
   "outputs": [],
   "source": [
    "import numpy as np\n",
    "import mdptoolbox, mdptoolbox.example\n",
    "import random\n",
    "import matplotlib.pyplot as plt\n",
    "\n",
    "s = 10\n",
    "a = 5\n",
    "discount = 0.6\n",
    "\n",
    "# episodes = 100\n",
    "episodes = 100\n",
    "iterations = 100000\n",
    "\n",
    "sor_total_diff=np.zeros((episodes,iterations))\n",
    "w_value=np.zeros((episodes,iterations))\n",
    "for count in range(episodes):\n",
    "    print(count)\n",
    "#     np.random.seed((count+1)*100)\n",
    "#     random.seed((count+1)*110)\n",
    "    \n",
    "    P, R = mdptoolbox.example.rand(s, a)\n",
    "    \n",
    "    vi = mdptoolbox.mdp.ValueIteration(P, R, discount,epsilon=0.00001)\n",
    "    vi.run()\n",
    "\n",
    "\n",
    "    ql4 = mdptoolbox.mdp.GSOR_QLearning(P, R, discount,n_iter=iterations)\n",
    "    ql4.run()\n",
    "#     print(\"vi.V\",vi.V)\n",
    "#     print(\"ql4.q_values\",ql4.q_values)\n",
    "    vi_values=vi.V\n",
    "    sor_values=np.linalg.norm(ql4.q_values,axis=1)\n",
    "    norm_diff_sor = vi.V - ql4.q_values    \n",
    "    sor_total_diff[count] = np.linalg.norm(norm_diff_sor,axis =1)\n",
    "  \n",
    "   \n",
    "avg_error_sor=np.mean(sor_total_diff,axis=0)\n",
    "std_error_sor=np.std(sor_total_diff,axis=0)\n",
    "mean_gsql3=np.mean(sor_values,axis=0)\n",
    "std_gsql3=np.std(sor_values,axis=0)\n",
    "\n",
    "mean_vi=np.mean(vi_values,axis=0)\n",
    "std_vi=np.std(vi_values,axis=0)\n",
    "np.savetxt(\"mean_std_GSOR_QL.csv\", np.c_[avg_error_sor,std_error_sor], delimiter=\",\")\n"
   ]
  },
  {
   "cell_type": "code",
   "execution_count": null,
   "id": "76447420",
   "metadata": {},
   "outputs": [],
   "source": []
  }
 ],
 "metadata": {
  "kernelspec": {
   "display_name": "Python 3",
   "language": "python",
   "name": "python3"
  },
  "language_info": {
   "codemirror_mode": {
    "name": "ipython",
    "version": 3
   },
   "file_extension": ".py",
   "mimetype": "text/x-python",
   "name": "python",
   "nbconvert_exporter": "python",
   "pygments_lexer": "ipython3",
   "version": "3.9.7"
  }
 },
 "nbformat": 4,
 "nbformat_minor": 5
}
