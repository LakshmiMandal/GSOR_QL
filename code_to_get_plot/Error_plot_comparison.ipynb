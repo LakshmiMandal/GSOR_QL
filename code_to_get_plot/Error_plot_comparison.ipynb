{
 "cells": [
  {
   "cell_type": "code",
   "execution_count": null,
   "id": "4fa27715",
   "metadata": {},
   "outputs": [],
   "source": [
    "import pandas as pd\n",
    "import matplotlib.pyplot as plt\n",
    "import csv\n",
    "from collections import deque\n",
    "\n",
    "path=\"mean_std_compare_algo.csv\"\n",
    "df = pd.read_csv(path)  \n",
    "path_gsor=\"mean_std_sor_spsa_10.csv\"\n",
    "df_gsor=pd.read_csv(path_gsor)\n",
    "\n",
    "y_dql=df.iloc[:, [0]]\n",
    "y_sor=df.iloc[:, [2]]       \n",
    "y_sql=df.iloc[:, [4]]\n",
    "y_gsql1=df.iloc[:, [6]]\n",
    "y_gsql2=df.iloc[:, [8]] \n",
    "y_o_gsql=df.iloc[:, [10]]\n",
    "y_zapql=df.iloc[:, [12]]\n",
    "y_gsor=df_gsor.iloc[:, [0]]\n",
    "\n",
    "rolling_averages = []\n",
    "data = deque(maxlen=5000)\n",
    "# print(df_gsor.shape[0])\n",
    "for i in range(df_gsor.shape[0] -1):\n",
    "    data.append(df_gsor.iat[i,0])\n",
    "    avg=sum(data) / len(data)\n",
    "    rolling_averages.append(avg)\n",
    "print(rolling_averages) \n",
    "  \n",
    "plt.plot(y_sor, color = 'darkorange', linestyle = '-',\n",
    "         marker = '',label = \"SOR-QL\")\n",
    "plt.plot(y_sql, color = 'm', linestyle = '-',marker = '',label = \"SQL\")\n",
    "plt.plot(y_gsql1, color = 'b', linestyle = '-',\n",
    "         marker = '',label = \"GSQL1\")\n",
    "plt.plot(y_gsql2, color = 'purple', linestyle = '-',\n",
    "         marker = '',label = \"GSQL2\")\n",
    "plt.plot(y_zapql, color = 'g', linestyle = '-',\n",
    "         marker = '',label = \"ZAP-QL\")\n",
    "plt.plot(y_dql, color = 'cyan', linestyle = '-',\n",
    "         marker = '',label = \"DQL\")\n",
    "\n",
    "plt.plot(rolling_averages, color = 'r', linestyle = '-',\n",
    "         marker = '',label = \"GSOR-QL\")\n",
    "\n",
    "  \n",
    "plt.xticks(rotation = 25)\n",
    "plt.xlabel('No. of Iteration')\n",
    "plt.ylabel('Average Error (log E_n)')\n",
    "# plt.title('', fontsize = 20)\n",
    "plt.grid()\n",
    "plt.legend()\n",
    "#plt.show()\n",
    "#plt.savefig('Agerage_Error.png')\n",
    "plt.savefig('average_error_sor_spsa.png')\n",
    "plt.savefig('average_error_sor_spsa.svg')"
   ]
  }
 ],
 "metadata": {
  "kernelspec": {
   "display_name": "rl_env",
   "language": "python",
   "name": "python3"
  },
  "language_info": {
   "codemirror_mode": {
    "name": "ipython",
    "version": 3
   },
   "file_extension": ".py",
   "mimetype": "text/x-python",
   "name": "python",
   "nbconvert_exporter": "python",
   "pygments_lexer": "ipython3",
   "version": "3.12.4"
  }
 },
 "nbformat": 4,
 "nbformat_minor": 5
}
