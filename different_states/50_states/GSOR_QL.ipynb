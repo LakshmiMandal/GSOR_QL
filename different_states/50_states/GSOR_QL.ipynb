{
 "cells": [
  {
   "cell_type": "code",
   "execution_count": 1,
   "metadata": {},
   "outputs": [
    {
     "name": "stdout",
     "output_type": "stream",
     "text": [
      "Requirement already satisfied: pymdptoolbox in /opt/homebrew/anaconda3/envs/rl_env/lib/python3.12/site-packages (4.0b3)\n",
      "Requirement already satisfied: numpy in /opt/homebrew/anaconda3/envs/rl_env/lib/python3.12/site-packages (from pymdptoolbox) (2.0.1)\n",
      "Requirement already satisfied: scipy in /opt/homebrew/anaconda3/envs/rl_env/lib/python3.12/site-packages (from pymdptoolbox) (1.14.0)\n"
     ]
    }
   ],
   "source": [
    "!pip install pymdptoolbox"
   ]
  },
  {
   "cell_type": "code",
   "execution_count": 2,
   "metadata": {},
   "outputs": [],
   "source": [
    "import numpy as np\n",
    "import mdptoolbox, mdptoolbox.example\n",
    "import random"
   ]
  },
  {
   "cell_type": "code",
   "execution_count": null,
   "metadata": {},
   "outputs": [],
   "source": [
    "import numpy as np\n",
    "import mdptoolbox, mdptoolbox.example\n",
    "import random\n",
    "import matplotlib.pyplot as plt\n",
    "\n",
    "s = 50\n",
    "a = 5\n",
    "discount = 0.6\n",
    "\n",
    "# episodes = 100\n",
    "episodes = 100\n",
    "iterations = 100000\n",
    "\n",
    "# sql_total_diff= np.zeros((episodes,iterations))\n",
    "# gsql1_total_diff= np.zeros((episodes,iterations))\n",
    "# gsql2_total_diff=np.zeros((episodes,iterations))\n",
    "sor_total_diff=np.zeros((episodes,iterations))\n",
    "w_value=np.zeros((episodes,iterations))\n",
    "for count in range(episodes):\n",
    "    print(count)\n",
    "#     np.random.seed((count+1)*100)\n",
    "#     random.seed((count+1)*110)\n",
    "    \n",
    "    P, R = mdptoolbox.example.rand(s, a)\n",
    "    \n",
    "    vi = mdptoolbox.mdp.ValueIteration(P, R, discount,epsilon=0.00001)\n",
    "    vi.run()\n",
    "\n",
    "#     #Speedy QL\n",
    "#     ql1 = mdptoolbox.mdp.SpeedyQLearning(P, R, discount,n_iter=iterations)\n",
    "#     ql1.run()\n",
    "#     norm_diff_sql = vi.V - ql1.q_values\n",
    "#     sql_total_diff[count] = np.linalg.norm(norm_diff_sql,axis =1)\n",
    "    \n",
    "#     #GSQL1\n",
    "#     ql2 = mdptoolbox.mdp.GSQL1(P, R, discount,n_iter=iterations)\n",
    "#     ql2.run()\n",
    "#     norm_diff_gsql1 = vi.V - ql2.q_values\n",
    "#     gsql1_total_diff[count] = np.linalg.norm(norm_diff_gsql1,axis =1)\n",
    "    \n",
    "#     #GSQL2\n",
    "#     ql3 = mdptoolbox.mdp.GSQL2(P, R, discount,n_iter=iterations)\n",
    "#     ql3.run()\n",
    "#     norm_diff_gsql2 = vi.V - ql3.q_values\n",
    "#     gsql2_total_diff[count] = np.linalg.norm(norm_diff_gsql2,axis =1)\n",
    "    \n",
    "    #GSOR-QL\n",
    "    ql4 = mdptoolbox.mdp.GSOR_QLearning(P, R, discount,n_iter=iterations)\n",
    "    ql4.run()\n",
    "#     print(\"vi.V\",vi.V)\n",
    "#     print(\"ql4.q_values\",ql4.q_values)\n",
    "    vi_values=vi.V\n",
    "    sor_values=np.linalg.norm(ql4.q_values,axis=1)\n",
    "    norm_diff_sor = vi.V - ql4.q_values    \n",
    "    sor_total_diff[count] = np.linalg.norm(norm_diff_sor,axis =1)\n",
    "    w_value[count]=ql4.w_values\n",
    "\n",
    "#Calculate average error and standard deviation    \n",
    "# avg_error_sql=np.mean(sql_total_diff,axis=0)\n",
    "# std_error_sql=np.std(sql_total_diff,axis=0)\n",
    "# avg_error_gsql1=np.mean(gsql1_total_diff,axis=0)\n",
    "# std_error_gsql1=np.std(gsql1_total_diff,axis=0)\n",
    "# avg_error_gsql2=np.mean(gsql2_total_diff,axis=0)\n",
    "# std_error_gsql2=np.std(gsql2_total_diff,axis=0)\n",
    "avg_error_sor=np.mean(sor_total_diff,axis=0)\n",
    "std_error_sor=np.std(sor_total_diff,axis=0)\n",
    "mean_gsql3=np.mean(sor_values,axis=0)\n",
    "std_gsql3=np.std(sor_values,axis=0)\n",
    "\n",
    "mean_vi=np.mean(vi_values,axis=0)\n",
    "std_vi=np.std(vi_values,axis=0)\n",
    "np.savetxt(\"mean_std_SOR_SPSA.csv\", np.c_[avg_error_sor,std_error_sor], delimiter=\",\")\n",
    "np.savetxt(\"w_value.csv\", np.c_[w_value], delimiter=\",\")"
   ]
  }
 ],
 "metadata": {
  "kernelspec": {
   "display_name": "rl_env",
   "language": "python",
   "name": "python3"
  },
  "language_info": {
   "codemirror_mode": {
    "name": "ipython",
    "version": 3
   },
   "file_extension": ".py",
   "mimetype": "text/x-python",
   "name": "python",
   "nbconvert_exporter": "python",
   "pygments_lexer": "ipython3",
   "version": "3.12.4"
  }
 },
 "nbformat": 4,
 "nbformat_minor": 2
}
