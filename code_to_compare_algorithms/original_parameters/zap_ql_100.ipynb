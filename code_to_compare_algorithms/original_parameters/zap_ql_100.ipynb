{
 "cells": [
  {
   "cell_type": "code",
   "execution_count": 2,
   "id": "65cac2a4",
   "metadata": {},
   "outputs": [
    {
     "name": "stdout",
     "output_type": "stream",
     "text": [
      "Requirement already satisfied: pymdptoolbox in /opt/homebrew/anaconda3/envs/rl_env/lib/python3.12/site-packages (4.0b3)\n",
      "Requirement already satisfied: numpy in /opt/homebrew/anaconda3/envs/rl_env/lib/python3.12/site-packages (from pymdptoolbox) (2.0.1)\n",
      "Requirement already satisfied: scipy in /opt/homebrew/anaconda3/envs/rl_env/lib/python3.12/site-packages (from pymdptoolbox) (1.14.0)\n"
     ]
    }
   ],
   "source": [
    "# !python3 \"/home/lakshmi/notebook/jupyterenv/GSQL_with_SPSA/pymdptoolbox-4.0-b3/src/mdptoolbox/main.py\"\n",
    "!pip install pymdptoolbox"
   ]
  },
  {
   "cell_type": "code",
   "execution_count": 2,
   "id": "00ffcf3b",
   "metadata": {},
   "outputs": [],
   "source": [
    "# import mdptoolbox"
   ]
  },
  {
   "cell_type": "code",
   "execution_count": 3,
   "id": "3cd917e7",
   "metadata": {},
   "outputs": [],
   "source": [
    "import numpy as np\n",
    "import mdptoolbox, mdptoolbox.example\n",
    "import random\n",
    "import time"
   ]
  },
  {
   "cell_type": "code",
   "execution_count": null,
   "id": "6f2b55a3",
   "metadata": {},
   "outputs": [],
   "source": [
    "s = 100\n",
    "a = 5\n",
    "discount = 0.6\n",
    "# delta=0.6\n",
    "\n",
    "episodes = 10\n",
    "iterations = 100000\n",
    "\n",
    "zapql_total_diff=np.zeros((episodes,iterations))\n",
    "\n",
    "\n",
    "for count in range(episodes):\n",
    "    print(count)\n",
    "    np.random.seed((count+1)*100)\n",
    "    random.seed((count+1)*110)\n",
    "    \n",
    "    P, R = mdptoolbox.example.rand(s, a)\n",
    "\n",
    "    time_vi_st=time.time()\n",
    "    vi = mdptoolbox.mdp.ValueIteration(P, R, discount,epsilon=0.00001)\n",
    "    vi.run()\n",
    "    time_vi_end=time.time()\n",
    "\n",
    "\n",
    "    #ZAPQL\n",
    "    time_zap_st=time.time()\n",
    "    zapql = mdptoolbox.mdp.ZAPQLearning(P, R, n_iter=iterations)\n",
    "    zapql.run()\n",
    "    norm_diff_zapql = vi.V - zapql.q_values\n",
    "    zapql_total_diff[count] = np.linalg.norm(norm_diff_zapql,axis =1)\n",
    "    time_zap_end=time.time()\n",
    "\n",
    "\n",
    "avg_error_zapql=np.mean(zapql_total_diff,axis=0)\n",
    "std_error_zapql=np.std(zapql_total_diff,axis=0)\n",
    "\n",
    "np.savetxt(\"mean_std_zapql_100.csv\", np.c_[avg_error_zapql,std_error_zapql], delimiter=\",\")\n"
   ]
  }
 ],
 "metadata": {
  "kernelspec": {
   "display_name": "rl_env",
   "language": "python",
   "name": "python3"
  },
  "language_info": {
   "codemirror_mode": {
    "name": "ipython",
    "version": 3
   },
   "file_extension": ".py",
   "mimetype": "text/x-python",
   "name": "python",
   "nbconvert_exporter": "python",
   "pygments_lexer": "ipython3",
   "version": "3.12.4"
  }
 },
 "nbformat": 4,
 "nbformat_minor": 5
}
