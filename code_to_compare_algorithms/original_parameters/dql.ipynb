{
 "cells": [
  {
   "cell_type": "code",
   "execution_count": 1,
   "id": "65cac2a4",
   "metadata": {},
   "outputs": [
    {
     "name": "stdout",
     "output_type": "stream",
     "text": [
      "Requirement already satisfied: pymdptoolbox in /opt/homebrew/anaconda3/envs/rl_env/lib/python3.12/site-packages (4.0b3)\n",
      "Requirement already satisfied: numpy in /opt/homebrew/anaconda3/envs/rl_env/lib/python3.12/site-packages (from pymdptoolbox) (2.0.1)\n",
      "Requirement already satisfied: scipy in /opt/homebrew/anaconda3/envs/rl_env/lib/python3.12/site-packages (from pymdptoolbox) (1.14.0)\n"
     ]
    }
   ],
   "source": [
    "# !python3 \"/home/lakshmi/notebook/jupyterenv/GSQL_with_SPSA/pymdptoolbox-4.0-b3/src/mdptoolbox/main.py\"\n",
    "!pip install pymdptoolbox"
   ]
  },
  {
   "cell_type": "code",
   "execution_count": 2,
   "id": "00ffcf3b",
   "metadata": {},
   "outputs": [],
   "source": [
    "# import mdptoolbox"
   ]
  },
  {
   "cell_type": "code",
   "execution_count": 2,
   "id": "3cd917e7",
   "metadata": {},
   "outputs": [],
   "source": [
    "import numpy as np\n",
    "import mdptoolbox, mdptoolbox.example\n",
    "import random\n",
    "import time"
   ]
  },
  {
   "cell_type": "code",
   "execution_count": null,
   "id": "9f75f0d5",
   "metadata": {},
   "outputs": [],
   "source": [
    "s = 100\n",
    "a = 5\n",
    "discount = 0.6\n",
    "# delta=0.6\n",
    "\n",
    "episodes = 10\n",
    "iterations = 100000\n",
    "\n",
    "dql_total_diff= np.zeros((episodes,iterations))\n",
    "\n",
    "\n",
    "dql_total_diff= np.zeros((episodes,iterations))\n",
    "\n",
    "\n",
    "for count in range(episodes):\n",
    "    print(count)\n",
    "    np.random.seed((count+1)*100)\n",
    "    random.seed((count+1)*110)\n",
    "    \n",
    "    P, R = mdptoolbox.example.rand(s, a)\n",
    "\n",
    "    time_vi_st=time.time()\n",
    "    vi = mdptoolbox.mdp.ValueIteration(P, R, discount,epsilon=0.00001)\n",
    "    vi.run()\n",
    "    time_vi_end=time.time()\n",
    "\n",
    "#     #SOR QL\n",
    "#     time_sor_original_st=time.time()\n",
    "#     sor = mdptoolbox.mdp.SOR_QLearning_original(P, R, discount,n_iter=iterations)\n",
    "#     sor.run()\n",
    "#     norm_diff_sor = vi.V - sor.q_values\n",
    "#     sor_total_diff[count] = np.linalg.norm(norm_diff_sor,axis =1)\n",
    "#     time_sor_original_end=time.time()\n",
    "\n",
    "#     #Speedy QL\n",
    "#     time_sql_st=time.time()\n",
    "#     ql1 = mdptoolbox.mdp.SpeedyQLearning(P, R, discount,n_iter=iterations)\n",
    "#     ql1.run()\n",
    "#     norm_diff_sql = vi.V - ql1.q_values\n",
    "#     sql_total_diff[count] = np.linalg.norm(norm_diff_sql,axis =1)\n",
    "#     time_sql_end=time.time()\n",
    "    \n",
    "#     #GSQL1\n",
    "#     time_gsql1_st=time.time()\n",
    "#     ql2 = mdptoolbox.mdp.GSQL1(P, R, discount,n_iter=iterations)\n",
    "#     ql2.run()\n",
    "#     norm_diff_gsql1 = vi.V - ql2.q_values\n",
    "#     gsql1_total_diff[count] = np.linalg.norm(norm_diff_gsql1,axis =1)\n",
    "#     time_gsql1_end=time.time()\n",
    "    \n",
    "#     #GSQL2\n",
    "#     time_gsql2_st=time.time()\n",
    "#     ql3 = mdptoolbox.mdp.GSQL2(P, R, discount,n_iter=iterations)\n",
    "#     ql3.run()\n",
    "#     norm_diff_gsql2 = vi.V - ql3.q_values\n",
    "#     gsql2_total_diff[count] = np.linalg.norm(norm_diff_gsql2,axis =1)\n",
    "#     time_gsql2_end=time.time()\n",
    "\n",
    "#     #ZAPQL\n",
    "#     time_zap_st=time.time()\n",
    "#     zapql = mdptoolbox.mdp.ZAPQLearning(P, R, discount,alpha=0.1, epsilon=0.1, n_iter=iterations, zeta=0.1)\n",
    "#     zapql.run()\n",
    "#     norm_diff_zapql = vi.V - zapql.q_values\n",
    "#     zapql_total_diff[count] = np.linalg.norm(norm_diff_zapql,axis =1)\n",
    "#     time_zap_end=time.time()\n",
    "\n",
    "    # #Double QL\n",
    "    time_dql_st=time.time()\n",
    "    dql = mdptoolbox.mdp.DoubleQLearning(P, R,n_iter=iterations)\n",
    "    dql.run()\n",
    "    norm_diff_dql = vi.V - dql.q_values\n",
    "    dql_total_diff[count] = np.linalg.norm(norm_diff_dql,axis =1)\n",
    "    time_dql_end=time.time()\n",
    "\n",
    "    print(\"time DQL\",time_dql_end-time_dql_st)\n",
    "\n",
    "\n",
    "\n",
    "#Calculate average error and standard deviation   \n",
    "avg_error_dql=np.mean(dql_total_diff,axis=0)\n",
    "std_error_dql=np.std(dql_total_diff,axis=0)\n",
    "\n",
    "# avg_error_sor=np.mean(sor_total_diff,axis=0)\n",
    "# std_error_sor=np.std(sor_total_diff,axis=0)\n",
    "\n",
    "# avg_error_sql=np.mean(sql_total_diff,axis=0)\n",
    "# std_error_sql=np.std(sql_total_diff,axis=0)\n",
    "\n",
    "# avg_error_gsql1=np.mean(gsql1_total_diff,axis=0)\n",
    "# std_error_gsql1=np.std(gsql1_total_diff,axis=0)\n",
    "\n",
    "# avg_error_gsql2=np.mean(gsql2_total_diff,axis=0)\n",
    "# std_error_gsql2=np.std(gsql2_total_diff,axis=0)\n",
    "\n",
    "# avg_error_gsql3=np.mean(gsql3_total_diff,axis=0)\n",
    "# std_error_gsql3=np.std(gsql3_total_diff,axis=0)\n",
    "\n",
    "# avg_error_zapql=np.mean(zapql_total_diff,axis=0)\n",
    "# std_error_zapql=np.std(zapql_total_diff,axis=0)\n",
    "\n",
    "np.savetxt(\"mean_std_dql_100.csv\", np.c_[avg_error_dql,std_error_dql], delimiter=\",\")\n"
   ]
  }
 ],
 "metadata": {
  "kernelspec": {
   "display_name": "rl_env",
   "language": "python",
   "name": "python3"
  },
  "language_info": {
   "codemirror_mode": {
    "name": "ipython",
    "version": 3
   },
   "file_extension": ".py",
   "mimetype": "text/x-python",
   "name": "python",
   "nbconvert_exporter": "python",
   "pygments_lexer": "ipython3",
   "version": "3.12.4"
  }
 },
 "nbformat": 4,
 "nbformat_minor": 5
}
